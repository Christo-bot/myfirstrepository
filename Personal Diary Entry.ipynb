{
 "cells": [
  {
   "cell_type": "code",
   "execution_count": null,
   "id": "09507486",
   "metadata": {},
   "outputs": [],
   "source": [
    "from datetime import datetime\n",
    "\n",
    "def add_entry(entry, filename=\"diary.txt\", timestamp=False):\n",
    "    try:\n",
    "        with open(filename, \"a\") as file:\n",
    "            if timestamp:\n",
    "                file.write(f\"{datetime.now()} - {entry}\\n\")\n",
    "            else:\n",
    "                file.write(f\"{entry}\\n\")\n",
    "        print(\"Entry added successfully.\")\n",
    "    except PermissionError:\n",
    "        print(\"Permission denied: unable to write to the file.\")\n",
    "\n",
    "def view_entries(filename=\"diary.txt\"):\n",
    "    try:\n",
    "        with open(filename, \"r\") as file:\n",
    "            content = file.read()\n",
    "            if content:\n",
    "                print(\"Diary Entries:\\n\")\n",
    "                print(content)\n",
    "            else:\n",
    "                print(\"No entries found.\")\n",
    "    except FileNotFoundError:\n",
    "        print(\"Diary file not found.\")\n",
    "    except PermissionError:\n",
    "        print(\"Permission denied: unable to read the file.\")\n",
    "\n",
    "# Example usage\n",
    "add_entry(\"Today was a good day.\", timestamp=True)\n",
    "view_entries()\n"
   ]
  }
 ],
 "metadata": {
  "kernelspec": {
   "display_name": "Python 3 (ipykernel)",
   "language": "python",
   "name": "python3"
  },
  "language_info": {
   "codemirror_mode": {
    "name": "ipython",
    "version": 3
   },
   "file_extension": ".py",
   "mimetype": "text/x-python",
   "name": "python",
   "nbconvert_exporter": "python",
   "pygments_lexer": "ipython3",
   "version": "3.11.4"
  }
 },
 "nbformat": 4,
 "nbformat_minor": 5
}
