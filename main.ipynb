{
 "cells": [
  {
   "cell_type": "code",
   "execution_count": 7,
   "id": "fb4adf46",
   "metadata": {},
   "outputs": [],
   "source": [
    "def calculator(first_number, second_number):\n",
    "    SUM = first_number+second_number\n",
    "    SUBTRACTION = first_number-second_number\n",
    "    MULTIPLICATION = first_number*second_number\n",
    "    DIVISION = first_number/second_number\n",
    "    \n",
    "    return\"Sum:\", SUM,\"Difference:\", SUBTRACTION, \"Product:\", MULTIPLICATION, \"Quotient:\", DIVISION"
   ]
  },
  {
   "cell_type": "code",
   "execution_count": 8,
   "id": "fa25ceae",
   "metadata": {},
   "outputs": [
    {
     "data": {
      "text/plain": [
       "('Sum:', 30, 'Difference:', 10, 'Product:', 200, 'Quotient:', 2.0)"
      ]
     },
     "execution_count": 8,
     "metadata": {},
     "output_type": "execute_result"
    }
   ],
   "source": [
    "calculator(20,10)"
   ]
  },
  {
   "cell_type": "code",
   "execution_count": null,
   "id": "e73238d1",
   "metadata": {},
   "outputs": [],
   "source": []
  }
 ],
 "metadata": {
  "kernelspec": {
   "display_name": "Python 3 (ipykernel)",
   "language": "python",
   "name": "python3"
  },
  "language_info": {
   "codemirror_mode": {
    "name": "ipython",
    "version": 3
   },
   "file_extension": ".py",
   "mimetype": "text/x-python",
   "name": "python",
   "nbconvert_exporter": "python",
   "pygments_lexer": "ipython3",
   "version": "3.11.4"
  }
 },
 "nbformat": 4,
 "nbformat_minor": 5
}
