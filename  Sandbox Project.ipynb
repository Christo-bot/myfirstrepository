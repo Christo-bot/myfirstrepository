{
 "cells": [
  {
   "cell_type": "code",
   "execution_count": 1,
   "id": "d90a1438",
   "metadata": {},
   "outputs": [
    {
     "name": "stdout",
     "output_type": "stream",
     "text": [
      "Current Balance: $70\n",
      "Transaction History:\n",
      "2024-11-08 15:08:31.227512 - Deposit: +$100\n",
      "2024-11-08 15:08:31.228510 - Withdrawal: -$30\n",
      "\n",
      "Account ID: 1731096511\n",
      "Username: John Doe\n",
      "Account Type: checking\n"
     ]
    }
   ],
   "source": [
    "import os\n",
    "from datetime import datetime\n",
    "\n",
    "class BankAccount:\n",
    "    def __init__(self, name, account_type, balance=0):\n",
    "        self.name = name\n",
    "        self.account_type = account_type  # 'checking' or 'savings'\n",
    "        self.balance = balance\n",
    "        self.id = self.generate_account_id()\n",
    "        self.filename = f\"{self.name}_{self.account_type}_{self.id}.txt\"\n",
    "        self.create_statement_file()\n",
    "\n",
    "    def generate_account_id(self):\n",
    "        # Generate a simple unique ID (e.g., based on timestamp)\n",
    "        return int(datetime.now().timestamp())\n",
    "\n",
    "    def create_statement_file(self):\n",
    "        with open(self.filename, 'w') as file:\n",
    "            file.write(\"Transaction History:\\n\")\n",
    "\n",
    "    def deposit(self, amount):\n",
    "        if amount > 0:\n",
    "            self.balance += amount\n",
    "            self.record_transaction(f\"Deposit: +${amount}\")\n",
    "        else:\n",
    "            print(\"Invalid deposit amount.\")\n",
    "\n",
    "    def withdraw(self, amount):\n",
    "        if 0 < amount <= self.balance:\n",
    "            self.balance -= amount\n",
    "            self.record_transaction(f\"Withdrawal: -${amount}\")\n",
    "        else:\n",
    "            print(\"Insufficient funds for withdrawal.\")\n",
    "\n",
    "    def check_balance(self):\n",
    "        print(f\"Current Balance: ${self.balance}\")\n",
    "        return self.balance\n",
    "\n",
    "    def record_transaction(self, transaction):\n",
    "        with open(self.filename, 'a') as file:\n",
    "            file.write(f\"{datetime.now()} - {transaction}\\n\")\n",
    "\n",
    "    def get_transaction_history(self):\n",
    "        with open(self.filename, 'r') as file:\n",
    "            print(file.read())\n",
    "\n",
    "    def get_account_id(self):\n",
    "        return self.id\n",
    "\n",
    "    def get_username(self):\n",
    "        return self.name\n",
    "\n",
    "    def get_account_type(self):\n",
    "        return self.account_type\n",
    "\n",
    "# Testing the BankAccount class\n",
    "if __name__ == \"__main__\":\n",
    "    # Create an account\n",
    "    account = BankAccount(\"John Doe\", \"checking\")\n",
    "    \n",
    "    # Perform transactions\n",
    "    account.deposit(100)\n",
    "    account.withdraw(30)\n",
    "    account.check_balance()\n",
    "    account.get_transaction_history()\n",
    "\n",
    "    # Retrieve details\n",
    "    print(\"Account ID:\", account.get_account_id())\n",
    "    print(\"Username:\", account.get_username())\n",
    "    print(\"Account Type:\", account.get_account_type())\n"
   ]
  },
  {
   "cell_type": "code",
   "execution_count": null,
   "id": "1db2269a",
   "metadata": {},
   "outputs": [],
   "source": []
  }
 ],
 "metadata": {
  "kernelspec": {
   "display_name": "Python 3 (ipykernel)",
   "language": "python",
   "name": "python3"
  },
  "language_info": {
   "codemirror_mode": {
    "name": "ipython",
    "version": 3
   },
   "file_extension": ".py",
   "mimetype": "text/x-python",
   "name": "python",
   "nbconvert_exporter": "python",
   "pygments_lexer": "ipython3",
   "version": "3.11.4"
  }
 },
 "nbformat": 4,
 "nbformat_minor": 5
}
