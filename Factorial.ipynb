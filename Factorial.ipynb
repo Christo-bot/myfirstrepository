{
 "cells": [
  {
   "cell_type": "code",
   "execution_count": 1,
   "id": "31d8a8c1",
   "metadata": {},
   "outputs": [
    {
     "name": "stdout",
     "output_type": "stream",
     "text": [
      "120\n",
      "1\n",
      "5040\n"
     ]
    }
   ],
   "source": [
    "def factorial(n):\n",
    "    # Initialize result to 1 (since factorial of 0 and 1 is 1)\n",
    "    result = 1\n",
    "    \n",
    "    # Use a for loop to multiply numbers from 1 to n\n",
    "    for i in range(1, n + 1):\n",
    "        result *= i\n",
    "    \n",
    "    return result\n",
    "\n",
    "# Example usage\n",
    "print(factorial(5))  # Output: 120\n",
    "print(factorial(0))  # Output: 1\n",
    "print(factorial(7))  # Output: 5040\n",
    "\n",
    "    "
   ]
  },
  {
   "cell_type": "code",
   "execution_count": null,
   "id": "a3ede53b",
   "metadata": {},
   "outputs": [],
   "source": []
  }
 ],
 "metadata": {
  "kernelspec": {
   "display_name": "Python 3 (ipykernel)",
   "language": "python",
   "name": "python3"
  },
  "language_info": {
   "codemirror_mode": {
    "name": "ipython",
    "version": 3
   },
   "file_extension": ".py",
   "mimetype": "text/x-python",
   "name": "python",
   "nbconvert_exporter": "python",
   "pygments_lexer": "ipython3",
   "version": "3.11.4"
  }
 },
 "nbformat": 4,
 "nbformat_minor": 5
}
