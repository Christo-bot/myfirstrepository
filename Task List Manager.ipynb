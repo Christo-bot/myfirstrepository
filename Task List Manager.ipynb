{
 "cells": [
  {
   "cell_type": "code",
   "execution_count": null,
   "id": "74f36d07",
   "metadata": {},
   "outputs": [
    {
     "name": "stdout",
     "output_type": "stream",
     "text": [
      "Task file not found.\n",
      "\n",
      "Options: 1. Add Task 2. Remove Task 3. View Tasks 4. Save & Exit\n"
     ]
    }
   ],
   "source": [
    "def add_task(task_list, task):\n",
    "    task_list.append(task)\n",
    "    print(f\"Task '{task}' added.\")\n",
    "\n",
    "def remove_task(task_list, task):\n",
    "    if task in task_list:\n",
    "        task_list.remove(task)\n",
    "        print(f\"Task '{task}' removed.\")\n",
    "    else:\n",
    "        print(f\"Task '{task}' not found.\")\n",
    "\n",
    "def view_tasks(task_list):\n",
    "    if task_list:\n",
    "        print(\"Current Task List:\")\n",
    "        for i, task in enumerate(task_list, start=1):\n",
    "            print(f\"{i}. {task}\")\n",
    "    else:\n",
    "        print(\"Task list is empty.\")\n",
    "\n",
    "def save_tasks(task_list, filename=\"tasks.txt\"):\n",
    "    try:\n",
    "        with open(filename, \"w\") as file:\n",
    "            for task in task_list:\n",
    "                file.write(task + \"\\n\")\n",
    "        print(\"Tasks saved successfully.\")\n",
    "    except Exception as e:\n",
    "        print(f\"An error occurred while saving tasks: {e}\")\n",
    "\n",
    "def load_tasks(filename=\"tasks.txt\"):\n",
    "    task_list = []\n",
    "    try:\n",
    "        with open(filename, \"r\") as file:\n",
    "            task_list = [line.strip() for line in file]\n",
    "        print(\"Tasks loaded successfully.\")\n",
    "    except FileNotFoundError:\n",
    "        print(\"Task file not found.\")\n",
    "    except Exception as e:\n",
    "        print(f\"An error occurred while loading tasks: {e}\")\n",
    "    return task_list\n",
    "\n",
    "# Main program\n",
    "tasks = load_tasks()\n",
    "while True:\n",
    "    print(\"\\nOptions: 1. Add Task 2. Remove Task 3. View Tasks 4. Save & Exit\")\n",
    "    choice = input(\"Choose an option: \")\n",
    "    if choice == '1':\n",
    "        task = input(\"Enter the task to add: \")\n",
    "        add_task(tasks, task)\n",
    "    elif choice == '2':\n",
    "        task = input(\"Enter the task to remove: \")\n",
    "        remove_task(tasks, task)\n",
    "    elif choice == '3':\n",
    "        view_tasks(tasks)\n",
    "    elif choice == '4':\n",
    "        save_tasks(tasks)\n",
    "        print(\"Exiting program.\")\n",
    "        break\n",
    "    else:\n",
    "        print(\"Invalid option. Please choose again.\")\n"
   ]
  },
  {
   "cell_type": "code",
   "execution_count": null,
   "id": "11cfbaea",
   "metadata": {},
   "outputs": [],
   "source": []
  }
 ],
 "metadata": {
  "kernelspec": {
   "display_name": "Python 3 (ipykernel)",
   "language": "python",
   "name": "python3"
  },
  "language_info": {
   "codemirror_mode": {
    "name": "ipython",
    "version": 3
   },
   "file_extension": ".py",
   "mimetype": "text/x-python",
   "name": "python",
   "nbconvert_exporter": "python",
   "pygments_lexer": "ipython3",
   "version": "3.11.4"
  }
 },
 "nbformat": 4,
 "nbformat_minor": 5
}
