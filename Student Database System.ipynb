{
 "cells": [
  {
   "cell_type": "code",
   "execution_count": 1,
   "id": "c7d4142c",
   "metadata": {},
   "outputs": [
    {
     "name": "stdout",
     "output_type": "stream",
     "text": [
      "Name: Alice, Age: 20, Grades: [85, 90, 78]\n",
      "Average Grade: 84.33333333333333\n",
      "\n",
      "Name: Bob, Age: 22, Grades: [92, 88, 95]\n",
      "Average Grade: 91.66666666666667\n",
      "\n"
     ]
    }
   ],
   "source": [
    "# Step 1: Create a class for students with attributes like name, age, and a list of grades.\n",
    "class Student:\n",
    "    def __init__(self, name, age, grades):\n",
    "        self.name = name\n",
    "        self.age = age\n",
    "        self.grades = grades\n",
    "\n",
    "    # Step 2: Implement methods to display student information and calculate average grades.\n",
    "    def display_info(self):\n",
    "        print(f\"Name: {self.name}, Age: {self.age}, Grades: {self.grades}\")\n",
    "\n",
    "    def calculate_average(self):\n",
    "        if len(self.grades) > 0:\n",
    "            return sum(self.grades) / len(self.grades)\n",
    "        else:\n",
    "            return 0\n",
    "\n",
    "# Step 3: Allow users to add new students to the database (in this case, a list of students).\n",
    "students = []\n",
    "\n",
    "def add_student(name, age, grades):\n",
    "    new_student = Student(name, age, grades)\n",
    "    students.append(new_student)\n",
    "\n",
    "# Step 4: Print a simple scenario of interactions with all these steps.\n",
    "# Adding a couple of students\n",
    "add_student(\"Alice\", 20, [85, 90, 78])\n",
    "add_student(\"Bob\", 22, [92, 88, 95])\n",
    "\n",
    "# Displaying all students and their average grades\n",
    "for student in students:\n",
    "    student.display_info()\n",
    "    print(f\"Average Grade: {student.calculate_average()}\\n\")\n",
    "\n",
    "# This code demonstrates:\n",
    "# - Creating students\n",
    "# - Storing them in a list\n",
    "# - Displaying their information and calculating their average grades\n"
   ]
  },
  {
   "cell_type": "code",
   "execution_count": null,
   "id": "e76f7e2e",
   "metadata": {},
   "outputs": [],
   "source": []
  }
 ],
 "metadata": {
  "kernelspec": {
   "display_name": "Python 3 (ipykernel)",
   "language": "python",
   "name": "python3"
  },
  "language_info": {
   "codemirror_mode": {
    "name": "ipython",
    "version": 3
   },
   "file_extension": ".py",
   "mimetype": "text/x-python",
   "name": "python",
   "nbconvert_exporter": "python",
   "pygments_lexer": "ipython3",
   "version": "3.11.4"
  }
 },
 "nbformat": 4,
 "nbformat_minor": 5
}
