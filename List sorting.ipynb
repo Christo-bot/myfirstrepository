{
 "cells": [
  {
   "cell_type": "code",
   "execution_count": 2,
   "id": "06a47bd1",
   "metadata": {},
   "outputs": [
    {
     "name": "stdout",
     "output_type": "stream",
     "text": [
      "Original list: [89, 95, 19, 40, 77, 5, 33, 13, 70, 6]\n",
      "sorted list: [5, 6, 13, 19, 33, 40, 70, 77, 89, 95]\n"
     ]
    }
   ],
   "source": [
    "import random\n",
    "def main():\n",
    "    #create a random list of numbers\n",
    "    random_list = [random.randint(1,100) for _ in range(10)]\n",
    "    print('Original list:',random_list)\n",
    "    \n",
    "    #Iterate over random list and sort\n",
    "    sorted_list = sorted(random_list)\n",
    "    \n",
    "    #print sorted list\n",
    "    print('sorted list:',sorted_list)\n",
    "    \n",
    "if __name__=='__main__':\n",
    "    main()"
   ]
  },
  {
   "cell_type": "code",
   "execution_count": null,
   "id": "1e3138b5",
   "metadata": {},
   "outputs": [],
   "source": []
  }
 ],
 "metadata": {
  "kernelspec": {
   "display_name": "Python 3 (ipykernel)",
   "language": "python",
   "name": "python3"
  },
  "language_info": {
   "codemirror_mode": {
    "name": "ipython",
    "version": 3
   },
   "file_extension": ".py",
   "mimetype": "text/x-python",
   "name": "python",
   "nbconvert_exporter": "python",
   "pygments_lexer": "ipython3",
   "version": "3.11.4"
  }
 },
 "nbformat": 4,
 "nbformat_minor": 5
}
