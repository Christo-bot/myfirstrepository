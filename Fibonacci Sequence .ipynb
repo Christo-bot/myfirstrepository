{
 "cells": [
  {
   "cell_type": "code",
   "execution_count": 8,
   "id": "b03f9a44",
   "metadata": {},
   "outputs": [],
   "source": [
    "import numpy as np\n",
    "def fib(num1,num2,sequence_bound):\n",
    "    sequence = np.empty(sequence_bound)\n",
    "    sequence[0] = int(num1)\n",
    "    sequence[1] = int(num2)\n",
    "    for i in range(sequence_bound-2):\n",
    "        sequence[i+2] =  int(sequence[i+1]+ sequence[i])\n",
    "    return sequence"
   ]
  },
  {
   "cell_type": "code",
   "execution_count": 9,
   "id": "87865aa6",
   "metadata": {},
   "outputs": [
    {
     "data": {
      "text/plain": [
       "array([1.000e+00, 1.000e+00, 2.000e+00, 3.000e+00, 5.000e+00, 8.000e+00,\n",
       "       1.300e+01, 2.100e+01, 3.400e+01, 5.500e+01, 8.900e+01, 1.440e+02,\n",
       "       2.330e+02, 3.770e+02, 6.100e+02, 9.870e+02, 1.597e+03, 2.584e+03,\n",
       "       4.181e+03, 6.765e+03])"
      ]
     },
     "execution_count": 9,
     "metadata": {},
     "output_type": "execute_result"
    }
   ],
   "source": [
    "fib(1,1,20)"
   ]
  },
  {
   "cell_type": "code",
   "execution_count": null,
   "id": "f5e1e8c9",
   "metadata": {},
   "outputs": [],
   "source": []
  }
 ],
 "metadata": {
  "kernelspec": {
   "display_name": "Python 3 (ipykernel)",
   "language": "python",
   "name": "python3"
  },
  "language_info": {
   "codemirror_mode": {
    "name": "ipython",
    "version": 3
   },
   "file_extension": ".py",
   "mimetype": "text/x-python",
   "name": "python",
   "nbconvert_exporter": "python",
   "pygments_lexer": "ipython3",
   "version": "3.11.4"
  }
 },
 "nbformat": 4,
 "nbformat_minor": 5
}
