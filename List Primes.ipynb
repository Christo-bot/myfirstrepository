{
 "cells": [
  {
   "cell_type": "code",
   "execution_count": 1,
   "id": "34ae2dc0",
   "metadata": {},
   "outputs": [
    {
     "name": "stdout",
     "output_type": "stream",
     "text": [
      "Enter a number N: 20\n",
      "Prime numbers between 2 and 20 are: [2, 3, 5, 7, 11, 13, 17, 19]\n"
     ]
    }
   ],
   "source": [
    "def list_primes(N):\n",
    "    primes = []\n",
    "    for num in range(2, N + 1):  # Loop through numbers from 2 to N\n",
    "        is_prime = True\n",
    "        for i in range(2, int(num**0.5) + 1):  # Check divisibility up to square root of num\n",
    "            if num % i == 0:\n",
    "                is_prime = False\n",
    "                break\n",
    "        if is_prime:\n",
    "            primes.append(num)\n",
    "    return primes\n",
    "\n",
    "# Example usage:\n",
    "N = int(input(\"Enter a number N: \"))  # User specifies N\n",
    "prime_numbers = list_primes(N)\n",
    "print(f\"Prime numbers between 2 and {N} are: {prime_numbers}\")\n"
   ]
  },
  {
   "cell_type": "code",
   "execution_count": null,
   "id": "2e7c62ad",
   "metadata": {},
   "outputs": [],
   "source": []
  }
 ],
 "metadata": {
  "kernelspec": {
   "display_name": "Python 3 (ipykernel)",
   "language": "python",
   "name": "python3"
  },
  "language_info": {
   "codemirror_mode": {
    "name": "ipython",
    "version": 3
   },
   "file_extension": ".py",
   "mimetype": "text/x-python",
   "name": "python",
   "nbconvert_exporter": "python",
   "pygments_lexer": "ipython3",
   "version": "3.11.4"
  }
 },
 "nbformat": 4,
 "nbformat_minor": 5
}
