{
 "cells": [
  {
   "cell_type": "code",
   "execution_count": 1,
   "id": "36a770bd",
   "metadata": {},
   "outputs": [],
   "source": [
    "import numpy as np\n",
    "def average(list):\n",
    "    s = np.sum(list)\n",
    "    c = len(list)\n",
    "    return s/c"
   ]
  },
  {
   "cell_type": "code",
   "execution_count": 2,
   "id": "0c96eab4",
   "metadata": {},
   "outputs": [
    {
     "data": {
      "text/plain": [
       "2.0"
      ]
     },
     "execution_count": 2,
     "metadata": {},
     "output_type": "execute_result"
    }
   ],
   "source": [
    "average([1,2,3])"
   ]
  },
  {
   "cell_type": "code",
   "execution_count": null,
   "id": "81d59327",
   "metadata": {},
   "outputs": [],
   "source": []
  }
 ],
 "metadata": {
  "kernelspec": {
   "display_name": "Python 3 (ipykernel)",
   "language": "python",
   "name": "python3"
  },
  "language_info": {
   "codemirror_mode": {
    "name": "ipython",
    "version": 3
   },
   "file_extension": ".py",
   "mimetype": "text/x-python",
   "name": "python",
   "nbconvert_exporter": "python",
   "pygments_lexer": "ipython3",
   "version": "3.11.4"
  }
 },
 "nbformat": 4,
 "nbformat_minor": 5
}
