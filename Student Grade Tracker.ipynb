{
 "cells": [
  {
   "cell_type": "code",
   "execution_count": null,
   "id": "f1b12494",
   "metadata": {},
   "outputs": [
    {
     "name": "stdout",
     "output_type": "stream",
     "text": [
      "Enter a grade (or type 'done' to finish): 95\n"
     ]
    }
   ],
   "source": [
    "def input_grades():\n",
    "    grades = []\n",
    "    while True:\n",
    "        grade = input(\"Enter a grade (or type 'done' to finish): \")\n",
    "        if grade.lower() == 'done':\n",
    "            break\n",
    "        try:\n",
    "            grade = float(grade)\n",
    "            grades.append(grade)\n",
    "        except ValueError:\n",
    "            print(\"Invalid input. Please enter a numeric grade.\")\n",
    "    return grades\n",
    "\n",
    "def calculate_average(grades):\n",
    "    if grades:\n",
    "        average = sum(grades) / len(grades)\n",
    "        print(f\"Average Grade: {average:.2f}\")\n",
    "    else:\n",
    "        print(\"No grades available to calculate an average.\")\n",
    "\n",
    "def save_grades(grades, filename=\"grades.txt\"):\n",
    "    try:\n",
    "        with open(filename, \"w\") as file:\n",
    "            for grade in grades:\n",
    "                file.write(f\"{grade}\\n\")\n",
    "        print(\"Grades saved successfully.\")\n",
    "    except PermissionError:\n",
    "        print(\"Permission denied: unable to save the grades.\")\n",
    "\n",
    "# Main program\n",
    "grades = input_grades()\n",
    "calculate_average(grades)\n",
    "save_grades(grades)\n"
   ]
  },
  {
   "cell_type": "code",
   "execution_count": null,
   "id": "315d47c9",
   "metadata": {},
   "outputs": [],
   "source": []
  }
 ],
 "metadata": {
  "kernelspec": {
   "display_name": "Python 3 (ipykernel)",
   "language": "python",
   "name": "python3"
  },
  "language_info": {
   "codemirror_mode": {
    "name": "ipython",
    "version": 3
   },
   "file_extension": ".py",
   "mimetype": "text/x-python",
   "name": "python",
   "nbconvert_exporter": "python",
   "pygments_lexer": "ipython3",
   "version": "3.11.4"
  }
 },
 "nbformat": 4,
 "nbformat_minor": 5
}
