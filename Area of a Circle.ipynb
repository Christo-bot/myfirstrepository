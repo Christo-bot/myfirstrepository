{
 "cells": [
  {
   "cell_type": "code",
   "execution_count": 4,
   "id": "e86a4a66",
   "metadata": {},
   "outputs": [],
   "source": [
    "import numpy as np\n",
    "def Circle_Area(radius):\n",
    "    return np.pi*radius*radius"
   ]
  },
  {
   "cell_type": "code",
   "execution_count": 7,
   "id": "709e42b8",
   "metadata": {},
   "outputs": [
    {
     "data": {
      "text/plain": [
       "(50.26548245743669, 25.132741228718345)"
      ]
     },
     "execution_count": 7,
     "metadata": {},
     "output_type": "execute_result"
    }
   ],
   "source": [
    "Circle_Area(4), Circumference(4)"
   ]
  },
  {
   "cell_type": "code",
   "execution_count": 5,
   "id": "c0566dfd",
   "metadata": {},
   "outputs": [],
   "source": [
    "def Circumference(radius):\n",
    "    return 2*np.pi*radius"
   ]
  },
  {
   "cell_type": "code",
   "execution_count": null,
   "id": "ba718732",
   "metadata": {},
   "outputs": [],
   "source": []
  }
 ],
 "metadata": {
  "kernelspec": {
   "display_name": "Python 3 (ipykernel)",
   "language": "python",
   "name": "python3"
  },
  "language_info": {
   "codemirror_mode": {
    "name": "ipython",
    "version": 3
   },
   "file_extension": ".py",
   "mimetype": "text/x-python",
   "name": "python",
   "nbconvert_exporter": "python",
   "pygments_lexer": "ipython3",
   "version": "3.11.4"
  }
 },
 "nbformat": 4,
 "nbformat_minor": 5
}
